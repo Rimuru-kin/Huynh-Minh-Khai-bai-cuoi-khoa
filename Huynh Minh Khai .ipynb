{
 "cells": [
  {
   "cell_type": "markdown",
   "metadata": {},
   "source": [
    "## <center>Computer Science Intensive Course - MindX</center>\n",
    "![](./assets-final-test/logo.png)\n",
    "# <center>KIỂM TRA CUỐI KHÓA</center>"
   ]
  },
  {
   "cell_type": "markdown",
   "metadata": {},
   "source": [
    "## Bài 1. Sherlock và Mảng\n",
    "\n",
    "Watson cho Sherlock một mảng các số nguyên với thử thách: Tìm một phần tử trong mảng sao cho tổng các giá trị bên trái phần tử này bằng tổng các giá trị bên phải.  \n",
    "\n",
    "**Ví dụ**:\n",
    "- Cho mảng *arr = [5, 6, 8, 11]*. Ta tìm được phần tử *8* thỏa điều kiện: *5 + 6 = 11*.\n",
    "- Cho mảng *arr = [1]*. Phần tử *1* thỏa điều kiện vì tổng các phần tử bên trái và bên phải được coi như bằng 0.\n",
    "\n",
    "**Yêu cầu**: Cho một mảng các số nguyên, hãy kiểm tra mảng có tồn tại phần tử thỏa mãn điều kiện trên hay không.  \n",
    "\n",
    "**Input**: Một mảng chứa *1 ≤ n ≤ 10<sup>5</sup>* số nguyên. Mỗi phần tử có giá trị trong đoạn _[1, 2.10<sup>4</sup>]_.  \n",
    "**Output**: Trả về một string là *'YES'* hoặc *'NO'* tương ứng với kết quả tìm được.  \n",
    "**Ví dụ**:  \n",
    "- Input: <code>[5, 6, 8, 11]</code>\n",
    "- Output: <code>'YES'</code>"
   ]
  },
  {
   "cell_type": "code",
   "execution_count": 5,
   "metadata": {},
   "outputs": [
    {
     "name": "stdout",
     "output_type": "stream",
     "text": [
      "YES\n"
     ]
    }
   ],
   "source": [
    "def balancedSums(arr):\n",
    "    \n",
    "    total_sum = sum(arr)\n",
    "\n",
    "    left_sum = 0 \n",
    "\n",
    "    for num in arr:\n",
    "\n",
    "        right_sum = total_sum -  left_sum - num\n",
    "\n",
    "        if left_sum == right_sum:\n",
    "            return 'YES'\n",
    "\n",
    "        left_sum += num\n",
    "    return 'NO' \n",
    "    \n",
    "\n",
    "result = balancedSums([5,6, 8, 11])\n",
    "    \n",
    "print(result)"
   ]
  },
  {
   "cell_type": "markdown",
   "metadata": {},
   "source": [
    "## Bài 2. Tổng Lớn Bé\n",
    "\n",
    "Cho 5 số nguyên dương, hãy tìm tổng nhỏ nhất và lớn nhất có thể tính được từ 4 trong 5 số đã cho.  \n",
    "\n",
    "**Ví dụ**: Cho năm số *1, 3, 5, 7, 9*. Tổng nhỏ nhất thu được là *1 + 3 + 5 + 7 = 16* và lớn nhất là *3 + 5 + 7 + 9 = 24*.  \n",
    "\n",
    "**Input**: Một list chứa đúng 5 số nguyên dương, mỗi phần tử có giá trị trong đoạn _[1, 10<sup>9</sup>]_.  \n",
    "**Output**: In ra tổng nhỏ nhất và tổng lớn nhất, cách nhau bởi một khoảng trắng.  "
   ]
  },
  {
   "cell_type": "code",
   "execution_count": 8,
   "metadata": {},
   "outputs": [],
   "source": [
    "def miniMaxSum(arr):\n",
    "    \n",
    "    total_sum = sum(arr)\n",
    "\n",
    "    min_sum = total_sum - max(arr)\n",
    "    max_sum = total_sum - min(arr)\n",
    "\n",
    "    \n",
    "    print('{} {}'.format(min_sum, max_sum))\n",
    "\n",
    "    arr = [1,3,5,7,9]\n",
    "    miniMaxSum(arr)"
   ]
  },
  {
   "cell_type": "markdown",
   "metadata": {},
   "source": [
    "## Bài 3. Mark và Đồ Chơi\n",
    "\n",
    "Mark đang đi mua đồ chơi cho con của anh. Trên kệ, các đồ chơi được trưng bày với nhiều nhãn giá khác nhau. Mark chỉ mang theo một số tiền nhất định và muốn mua nhiều đồ chơi nhất có thể.\n",
    "\n",
    "**Yêu cầu**: Cho một danh sách giá của từng món đồ chơi và số tiền Mark mang theo, hãy xác định số lượng đồ chơi nhiều nhất mà Mark có thể mua. Chú ý Mark chỉ mua mỗi món đồ chơi một lần.  \n",
    "\n",
    "**Input**: Một danh sách giá dưới dạng list chứa các số nguyên và một số nguyên *1 ≤ k ≤ 10<sup>9</sup>* là số tiền Mark mang theo. Danh sách chứa *1 ≤ n ≤ 10<sup>5</sup>* phần tử, mỗi phần tử có giá trị trong đoạn _[1, 10<sup>9</sup>]_.  \n",
    "**Output**: Một số nguyên là số lượng đồ chơi nhiều nhất mà Mark có thể mua.  \n",
    "**Ví dụ**:\n",
    "- Input: <code>[1, 12, 5, 111, 200, 1000, 10]</code>, <code>50</code>\n",
    "- Output: <code>4</code>\n",
    "- Giải thích: Với 50 đơn vị tiền, Mark có thể mua tối đa 4 món đồ chơi tương ứng với giá: [1, 12, 5, 10].  "
   ]
  },
  {
   "cell_type": "code",
   "execution_count": 11,
   "metadata": {},
   "outputs": [
    {
     "name": "stdout",
     "output_type": "stream",
     "text": [
      "4\n"
     ]
    }
   ],
   "source": [
    "def maximumToys(prices, k):\n",
    "    \n",
    "    prices.sort()\n",
    "\n",
    "    count = 0\n",
    "    total_cost  = 0\n",
    "\n",
    "    for price in prices:\n",
    "        if total_cost + price <= k:\n",
    "            total_cost += price\n",
    "            count += 1\n",
    "        else:\n",
    "            break\n",
    "    \n",
    "    \n",
    "    \n",
    "    return count  # int\n",
    "\n",
    "prices = [1,12,5,111, 200, 1000, 10]\n",
    "k = 50\n",
    "print(maximumToys(prices, k))"
   ]
  },
  {
   "cell_type": "markdown",
   "metadata": {},
   "source": [
    "## Bài 4. Median\n",
    "\n",
    "Median của một dãy số là phần tử nằm chính giữa dãy đó sau khi sắp xếp: Số phần tử nằm bên trái median bằng số phần tử nằm bên phải median.  \n",
    "\n",
    "**Yêu cầu**: Cho một dãy số có số phần tử lẻ, hãy tìm median của dãy.  \n",
    "\n",
    "**Input**: Một dãy số dưới dạng list chứa *1 ≤ n ≤ 1000001* phần tử, *n* lẻ, mỗi phần tử có giá trị trong đoạn _[-10000, 10000]_.  \n",
    "**Output**: Một số nguyên là giá trị của median trong dãy số.  \n",
    "**Ví dụ**:  \n",
    "- Input: <code>[0, 1, 2, 4, 6, 5, 3]</code>\n",
    "- Output: <code>3</code>\n",
    "- Giải thích: Dãy số sau khi sắp xếp là _[0, 1, 2, 3, 4, 5, 6]_. Phần tử chính giữa có giá trị là *3*."
   ]
  },
  {
   "cell_type": "code",
   "execution_count": 14,
   "metadata": {},
   "outputs": [
    {
     "name": "stdout",
     "output_type": "stream",
     "text": [
      "3\n"
     ]
    }
   ],
   "source": [
    "def findMedian(arr):\n",
    "    arr.sort()\n",
    "\n",
    "    median = arr[len(arr) // 2]\n",
    "    \n",
    "    \n",
    "    return median  # int\n",
    "\n",
    "arr = [0, 1, 2,  4, 6, 5, 3 ]\n",
    "print(findMedian(arr))"
   ]
  },
  {
   "cell_type": "code",
   "execution_count": 10,
   "metadata": {},
   "outputs": [],
   "source": [
    "def roadsAndLibraries(n, c_lib, c_road, cities):\n",
    "    \n",
    "    # YOUR CODE HERE\n",
    "    \n",
    "    return min_cost  # int"
   ]
  },
  {
   "cell_type": "markdown",
   "metadata": {},
   "source": [
    "## Bài 5. Sherlock và Chuỗi Hợp Lệ\n",
    "\n",
    "Sherlock coi một chuỗi kí tự là hợp lệ nếu mọi chữ cái trong chuỗi có số lần xuất hiện bằng nhau. Chuỗi cũng hợp lệ nếu ta có thể xóa đúng một chữ cái tại đúng một vị trí trong chuỗi sao cho các chữ cái trong chuỗi thu được có số lần xuất hiện bằng nhau.\n",
    "\n",
    "**Yêu cầu**: Cho một chuỗi kí tự chỉ bao gồm các chữ cái viết thường từ *a* đến *z*, hãy kiểm tra chuỗi có hợp lệ hay không.   \n",
    "\n",
    "**Input**: Một chuỗi kí tự có kích thước *1 ≤ n ≤ 10<sup>5</sup>*.  \n",
    "**Output**: Trả về *'YES'* nếu chuỗi hợp lệ, ngược lại trả về *'NO'*.  \n",
    "**Ví dụ**: \n",
    "\n",
    "Ví dụ 1:\n",
    "- Input: <code>'abcdefghhgfedecba'</code>\n",
    "- Output: <code>'YES'</code>\n",
    "- Giải thích: Mọi chữ cái đều xuất hiện 2 lần, riêng chữ *'e'* xuất hiện 3 lần. Ta có thể xóa một vị trí của *'e'* để *'e'* chỉ xuất hiện 2 lần như các chữ cái khác.\n",
    "\n",
    "Ví dụ 2:\n",
    "- Input: <code>'aabbcd'</code>\n",
    "- Output: <code>'NO'</code>"
   ]
  },
  {
   "cell_type": "code",
   "execution_count": 16,
   "metadata": {},
   "outputs": [
    {
     "name": "stdout",
     "output_type": "stream",
     "text": [
      "YES\n",
      "NO\n"
     ]
    }
   ],
   "source": [
    "from collections import Counter\n",
    "def isValid(s):\n",
    "\n",
    "    freq = Counter(s)\n",
    "\n",
    "    freq_count =  Counter(freq. values())\n",
    "\n",
    "    if len(freq_count) == 1:\n",
    "        return \"YES\"\n",
    "    if len(freq_count) == 2:\n",
    "        key1, key2 = freq_count.keys()\n",
    "\n",
    "        if(freq_count[key1] == 1 and (key1 -1 == key2 or key1 - 1 == 0)) or \\\n",
    "          (freq_count[key2] == 1 and (key2 -1 == key1 or key2 - 1 == 0 )):\n",
    "            return \"YES\"\n",
    "        \n",
    "    return \"NO\"\n",
    "print(isValid(\"abcdefghhgfedecba\"))\n",
    "print(isValid(\"aabbcd\"))\n",
    "\n",
    "    \n",
    "    \n",
    "    "
   ]
  },
  {
   "cell_type": "markdown",
   "metadata": {},
   "source": [
    "# END"
   ]
  }
 ],
 "metadata": {
  "kernelspec": {
   "display_name": "Python 3",
   "language": "python",
   "name": "python3"
  },
  "language_info": {
   "codemirror_mode": {
    "name": "ipython",
    "version": 3
   },
   "file_extension": ".py",
   "mimetype": "text/x-python",
   "name": "python",
   "nbconvert_exporter": "python",
   "pygments_lexer": "ipython3",
   "version": "3.12.5"
  }
 },
 "nbformat": 4,
 "nbformat_minor": 4
}
